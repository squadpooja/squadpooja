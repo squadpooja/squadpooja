{
 "cells": [
  {
   "cell_type": "markdown",
   "id": "c129f9b6",
   "metadata": {},
   "source": [
    "A decorator takes in a function, adds some functionality and returns it.This is also called metaprogramming because a part of the program tries to modify another part of the program at compile time.\n",
    "\n",
    "Functions can be passed as arguments to another function. Furthermore, a function can return another function."
   ]
  },
  {
   "cell_type": "markdown",
   "id": "eb2382bb",
   "metadata": {},
   "source": [
    "Functions and methods are called callable as they can be called.\n",
    "\n",
    "In fact, any object which implements the special __call__() method is termed callable. So, in the most basic sense, a decorator is a callable that returns a callable.\n",
    "\n",
    "Basically, a decorator takes in a function, adds some functionality and returns it.The decorator acts as a wrapper. The nature of the object that got decorated (actual gift inside) does not alter. But now, it looks pretty (since it got decorated)."
   ]
  },
  {
   "cell_type": "markdown",
   "id": "33916510",
   "metadata": {},
   "source": [
    "We can use the @ symbol along with the name of the decorator function and place it above the definition of the function to be decorated."
   ]
  },
  {
   "cell_type": "code",
   "execution_count": 1,
   "id": "12a8465a",
   "metadata": {},
   "outputs": [
    {
     "data": {
      "text/plain": [
       "['hello', 'world']"
      ]
     },
     "execution_count": 1,
     "metadata": {},
     "output_type": "execute_result"
    }
   ],
   "source": [
    "# decorator function to convert to lowercase\n",
    "def lowercase_decorator(function):\n",
    "   def wrapper():\n",
    "       func = function()\n",
    "       string_lowercase = func.lower()\n",
    "       return string_lowercase\n",
    "   return wrapper\n",
    "# decorator function to split words\n",
    "def splitter_decorator(function):\n",
    "   def wrapper():\n",
    "       func = function()\n",
    "       string_split = func.split()\n",
    "       return string_split\n",
    "   return wrapper\n",
    "@splitter_decorator # this is executed next\n",
    "@lowercase_decorator # this is executed first\n",
    "def hello():\n",
    "   return 'Hello World'\n",
    "hello()   # output => [ 'hello' , 'world' ]"
   ]
  },
  {
   "cell_type": "code",
   "execution_count": 8,
   "id": "0feb50c7",
   "metadata": {},
   "outputs": [
    {
     "name": "stdout",
     "output_type": "stream",
     "text": [
      "Division not possible with 0\n"
     ]
    }
   ],
   "source": [
    "def division(function):\n",
    "    def wrapper(a,b):\n",
    "        if b==0:\n",
    "            print(\"Division not possible with 0\")\n",
    "            return\n",
    "        return function(a,b)\n",
    "    return wrapper\n",
    "@division\n",
    "def div(a,b): #This function has two parameters, a and b. We know it will give an error if we pass in b as 0.\n",
    "    c=a/b\n",
    "    print(c)\n",
    "\n",
    "div(10,0)\n",
    "        "
   ]
  },
  {
   "cell_type": "code",
   "execution_count": 10,
   "id": "1bd37d3a",
   "metadata": {},
   "outputs": [
    {
     "data": {
      "text/plain": [
       "8"
      ]
     },
     "execution_count": 10,
     "metadata": {},
     "output_type": "execute_result"
    }
   ],
   "source": [
    "#Lambda or anonymous function Lambda functions can have any number of arguments but only one expression.\n",
    "#The expression is evaluated and returned. \n",
    "#Lambda functions can be used wherever function objects are required.\n",
    "larger = lambda a,b: a if a>b else b\n",
    "larger(5,8)"
   ]
  },
  {
   "cell_type": "code",
   "execution_count": 13,
   "id": "c2212616",
   "metadata": {},
   "outputs": [
    {
     "name": "stdout",
     "output_type": "stream",
     "text": [
      "['Amit', 'Harry', 'Kritika', 'Pooja', 'Rajesh', 'Tom']\n",
      "['Tom', 'Amit', 'Harry', 'Pooja', 'Rajesh', 'Kritika']\n"
     ]
    }
   ],
   "source": [
    "#to sort based on length of names\n",
    "names=['Tom','Harry','Pooja','Amit','Rajesh','Kritika']\n",
    "names.sort()# this sorts in alphabetical order\n",
    "print(names)\n",
    "names.sort(key = lambda i : len(i)) #this sorts on basis of length  of name\n",
    "print(names)"
   ]
  },
  {
   "cell_type": "code",
   "execution_count": 14,
   "id": "65c45ebf",
   "metadata": {},
   "outputs": [
    {
     "name": "stdout",
     "output_type": "stream",
     "text": [
      "[(98, 1), (1, 2), (9, 8), (45, 23), (65, 46)]\n"
     ]
    }
   ],
   "source": [
    "#to sort based on second element of tuple\n",
    "number_tpl = [(1,2),(9,8),(65,46),(98,1),(45,23)]\n",
    "number_tpl.sort(key = lambda tpl : tpl[-1])\n",
    "print(number_tpl)"
   ]
  },
  {
   "cell_type": "markdown",
   "id": "42068daf",
   "metadata": {},
   "source": [
    "## We use lambda functions when we require a nameless function for a short period of time.\n",
    "\n",
    "In Python, we generally use it as an argument to a higher-order function (a function that takes in other functions as arguments). Lambda functions are used along with built-in functions like filter(), map() etc.\n",
    "Example use with filter()\n",
    "The filter() function in Python takes in a function and a list as arguments.\n",
    "\n",
    "The function is called with all the items in the list and a new list is returned which contains items for which the function evaluates to True.\n",
    "\n",
    "Here is an example use of filter() function to filter out only even numbers from a list."
   ]
  },
  {
   "cell_type": "code",
   "execution_count": 16,
   "id": "bb94ac37",
   "metadata": {},
   "outputs": [
    {
     "name": "stdout",
     "output_type": "stream",
     "text": [
      "[6, 10]\n"
     ]
    }
   ],
   "source": [
    "my_list=[1,6,5,3,9,10]\n",
    "result = list(filter(lambda x: (x%2==0), my_list))\n",
    "print(result)"
   ]
  },
  {
   "cell_type": "markdown",
   "id": "d0aa7e6c",
   "metadata": {},
   "source": [
    "The map() function in Python takes in a function and a list.\n",
    "\n",
    "The function is called with all the items in the list and a new list is returned which contains items returned by that function for each item.\n",
    "\n",
    "Here is an example use of map() function to double all the items in a list."
   ]
  },
  {
   "cell_type": "code",
   "execution_count": 17,
   "id": "6c09bd09",
   "metadata": {},
   "outputs": [
    {
     "name": "stdout",
     "output_type": "stream",
     "text": [
      "[4, 10, 16, 18, 46, 90]\n"
     ]
    }
   ],
   "source": [
    "my_list=[2,5,8,9,23,45]\n",
    "result=list(map(lambda x : 2*x ,my_list))\n",
    "print(result)"
   ]
  },
  {
   "cell_type": "code",
   "execution_count": 19,
   "id": "958c3807",
   "metadata": {},
   "outputs": [
    {
     "name": "stdout",
     "output_type": "stream",
     "text": [
      "[12, 6, 15]\n"
     ]
    }
   ],
   "source": [
    "num1=[3,5,8]\n",
    "num2=[9,1,7]\n",
    "result=list(map(lambda x,y: x+y ,num1,num2))\n",
    "print(result)"
   ]
  },
  {
   "cell_type": "code",
   "execution_count": 22,
   "id": "1ea4fdf8",
   "metadata": {},
   "outputs": [
    {
     "name": "stdout",
     "output_type": "stream",
     "text": [
      "['h', 'u', 'm', 'a', 'n']\n",
      "['h', 'u', 'm', 'a', 'n']\n"
     ]
    }
   ],
   "source": [
    "#list comprehension\n",
    "string = 'human'\n",
    "my_list=[]\n",
    "for i in string:\n",
    "    my_list.append(i)\n",
    "print(my_list)\n",
    "result=[i for i in string ]\n",
    "print(result)"
   ]
  },
  {
   "cell_type": "code",
   "execution_count": 23,
   "id": "51f93f6c",
   "metadata": {},
   "outputs": [
    {
     "name": "stdout",
     "output_type": "stream",
     "text": [
      "[0, 10, 20, 30, 40, 50, 60, 70, 80, 90]\n"
     ]
    }
   ],
   "source": [
    "result=[x for x in range(100) if x%2==0 if x%5==0]\n",
    "print(result)"
   ]
  },
  {
   "cell_type": "code",
   "execution_count": 25,
   "id": "e50f3d4e",
   "metadata": {},
   "outputs": [
    {
     "name": "stdout",
     "output_type": "stream",
     "text": [
      "[[1, 3, 5, 7], [2, 4, 6, 8]]\n"
     ]
    }
   ],
   "source": [
    "# Transpose of a Matrix using List Comprehension\n",
    "matrix=[[1,2],[3,4],[5,6],[7,8]]\n",
    "result=[[row[i] for row in matrix] for i in range(2)]\n",
    "print(result)\n",
    "#for i in range(2) is executed before row[i] for row in matrix.\n",
    "#Hence at first, a value is assigned to i then item directed by row[i] is appended in the transpose variable."
   ]
  },
  {
   "cell_type": "code",
   "execution_count": 30,
   "id": "ce21cf86",
   "metadata": {},
   "outputs": [
    {
     "name": "stdout",
     "output_type": "stream",
     "text": [
      "67\n"
     ]
    }
   ],
   "source": [
    "#reduce() is defined in “functools” module\n",
    "#reduce() stores the intermediate result and only returns the final summation value.\n",
    "#reduce(fun,seq) takes function as 1st and sequence as 2nd argument.\n",
    "#to find maximum number in a list using reduce function\n",
    "import functools\n",
    "my_list=[23,45,29,67,12,34]\n",
    "print(functools.reduce(lambda a,b : a if a>b else b , my_list))"
   ]
  },
  {
   "cell_type": "code",
   "execution_count": null,
   "id": "1f65a510",
   "metadata": {},
   "outputs": [],
   "source": []
  }
 ],
 "metadata": {
  "kernelspec": {
   "display_name": "Python 3 (ipykernel)",
   "language": "python",
   "name": "python3"
  },
  "language_info": {
   "codemirror_mode": {
    "name": "ipython",
    "version": 3
   },
   "file_extension": ".py",
   "mimetype": "text/x-python",
   "name": "python",
   "nbconvert_exporter": "python",
   "pygments_lexer": "ipython3",
   "version": "3.9.12"
  }
 },
 "nbformat": 4,
 "nbformat_minor": 5
}
